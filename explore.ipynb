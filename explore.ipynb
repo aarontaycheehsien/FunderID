{
 "cells": [
  {
   "cell_type": "markdown",
   "metadata": {},
   "source": [
    "# Setup"
   ]
  },
  {
   "cell_type": "code",
   "execution_count": null,
   "metadata": {},
   "outputs": [],
   "source": [
    "from SPARQLWrapper import SPARQLWrapper, JSON\n",
    "import pprint as pp"
   ]
  },
  {
   "cell_type": "code",
   "execution_count": null,
   "metadata": {
    "collapsed": true
   },
   "outputs": [],
   "source": [
    "# Code example from https://github.com/RDFLib/sparqlwrapper\n",
    "sparql = SPARQLWrapper(\"http://dbpedia.org/sparql\")\n",
    "sparql.setQuery(\"\"\"\n",
    "    PREFIX rdfs: <http://www.w3.org/2000/01/rdf-schema#>\n",
    "    SELECT ?label\n",
    "    WHERE { <http://dbpedia.org/resource/Asturias> rdfs:label ?label }\n",
    "\"\"\")\n",
    "sparql.setReturnFormat(JSON)\n",
    "results = sparql.query().convert()\n",
    "\n",
    "for result in results[\"results\"][\"bindings\"]:\n",
    "    print('%s: %s' % (result[\"label\"][\"xml:lang\"], result[\"label\"][\"value\"]))"
   ]
  },
  {
   "cell_type": "markdown",
   "metadata": {},
   "source": [
    "# Retrieve DOIs:|"
   ]
  },
  {
   "cell_type": "code",
   "execution_count": null,
   "metadata": {},
   "outputs": [],
   "source": [
    "sparql = SPARQLWrapper(\"http://multiweb.gesis.org/virtuoso/sparql/\")\n",
    "\n",
    "sparql.setQuery(\"\"\"select * where {?s rdf:type skos:Concept .} LIMIT 10\"\"\")\n",
    "sparql.setReturnFormat(JSON)\n",
    "results = sparql.query().convert()\n",
    "\n",
    "for r in results[\"results\"][\"bindings\"]:\n",
    "    print(r['s']['value'])"
   ]
  },
  {
   "cell_type": "markdown",
   "metadata": {},
   "source": [
    "# Retrieve DOI and title"
   ]
  },
  {
   "cell_type": "code",
   "execution_count": null,
   "metadata": {},
   "outputs": [],
   "source": [
    "# sparql = SPARQLWrapper(\"http://multiweb.gesis.org/virtuoso/sparql/\")\n",
    "# sparql.setQuery(\"\"\"CONSTRUCT {<http://dx.doi.org/10.13039/100000960> ?p ?o . <http://dx.doi.org/10.13039/100000960> <http://www.w3.org/2008/05/skos-xl#literalForm> ?b} WHERE {{<http://dx.doi.org/10.13039/100000960> ?p ?o.}\n",
    "#     UNION {\n",
    "#     <http://dx.doi.org/10.13039/100000960> <http://www.w3.org/2008/05/skos-xl#prefLabel> ?a.\n",
    "#     ?a <http://www.w3.org/2008/05/skos-xl#literalForm> ?b}} limit 10\n",
    "#     \"\"\")\n",
    "\n",
    "# sparql.setReturnFormat(JSON)\n",
    "# results = sparql.query().convert()\n",
    "\n",
    "# pp.pprint(results)"
   ]
  },
  {
   "cell_type": "code",
   "execution_count": null,
   "metadata": {
    "collapsed": true
   },
   "outputs": [],
   "source": []
  }
 ],
 "metadata": {
  "kernelspec": {
   "display_name": "Python 3",
   "language": "python",
   "name": "python3"
  },
  "language_info": {
   "codemirror_mode": {
    "name": "ipython",
    "version": 3
   },
   "file_extension": ".py",
   "mimetype": "text/x-python",
   "name": "python",
   "nbconvert_exporter": "python",
   "pygments_lexer": "ipython3",
   "version": "3.6.3"
  }
 },
 "nbformat": 4,
 "nbformat_minor": 2
}
