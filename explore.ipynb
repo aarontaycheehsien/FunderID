{
 "cells": [
  {
   "cell_type": "markdown",
   "metadata": {},
   "source": [
    "# Setup"
   ]
  },
  {
   "cell_type": "code",
   "execution_count": 16,
   "metadata": {
    "collapsed": true
   },
   "outputs": [],
   "source": [
    "from SPARQLWrapper import SPARQLWrapper, JSON, CSV\n",
    "import pprint as pp\n",
    "import csv\n",
    "\n",
    "endpoint=\"http://multiweb.gesis.org/virtuoso/sparql/\"\n",
    "sparql = SPARQLWrapper(endpoint)"
   ]
  },
  {
   "cell_type": "markdown",
   "metadata": {},
   "source": [
    "# Query 1"
   ]
  },
  {
   "cell_type": "code",
   "execution_count": 22,
   "metadata": {},
   "outputs": [
    {
     "name": "stdout",
     "output_type": "stream",
     "text": [
      "<class 'bytes'>\n",
      "Job Completed, check query1-results.csv\n"
     ]
    }
   ],
   "source": [
    "sparql.setQuery('SELECT ?sgid concat(\"researchgraph.org/scigraph/\",?sgid) ?title WHERE {?x <http://scigraph.springernature.com/ontologies/core/title> ?title . ?x <http://scigraph.springernature.com/ontologies/core/scigraphId> ?sgid .} LIMIT 100')\n",
    "sparql.setReturnFormat(CSV)\n",
    "results = sparql.query().convert()\n",
    "\n",
    "csvfile=\"query1-results.csv\"\n",
    "with open(csvfile, \"w\") as outFile:\n",
    "     outFile.write(results.decode(\"utf-8\") )\n",
    "\n",
    "print(\"Job Completed, check {}\".format(csvfile))"
   ]
  },
  {
   "cell_type": "code",
   "execution_count": null,
   "metadata": {
    "collapsed": true
   },
   "outputs": [],
   "source": []
  }
 ],
 "metadata": {
  "kernelspec": {
   "display_name": "Python 3",
   "language": "python",
   "name": "python3"
  },
  "language_info": {
   "codemirror_mode": {
    "name": "ipython",
    "version": 3
   },
   "file_extension": ".py",
   "mimetype": "text/x-python",
   "name": "python",
   "nbconvert_exporter": "python",
   "pygments_lexer": "ipython3",
   "version": "3.6.3"
  }
 },
 "nbformat": 4,
 "nbformat_minor": 2
}
